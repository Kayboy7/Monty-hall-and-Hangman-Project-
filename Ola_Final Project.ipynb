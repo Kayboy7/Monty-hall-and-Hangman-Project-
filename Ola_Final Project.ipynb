{
 "cells": [
  {
   "attachments": {},
   "cell_type": "markdown",
   "metadata": {},
   "source": [
    "# <font color='#E8F6EF'>**Final Project for Fundamentals of Python Programming**</font> "
   ]
  },
  {
   "attachments": {},
   "cell_type": "markdown",
   "metadata": {},
   "source": [
    "# <font color='#E8F6EF'>**Problem 1: The Monty Hall Problem**</font> "
   ]
  },
  {
   "attachments": {},
   "cell_type": "markdown",
   "metadata": {},
   "source": [
    "The Monty Hall problem is a probability puzzle based on a game show scenario. It's named after `Monty Hall`, the original host of the television show \"Let's Make a Deal.\""
   ]
  },
  {
   "attachments": {},
   "cell_type": "markdown",
   "metadata": {},
   "source": [
    "Here's a breakdown of the problem: \n",
    "\n",
    "1. **`The Setup`**: Imagine you're on a game show, and you're given the choice of three doors: Behind <font color='#FF69B4'>**one door**</font>  is a car (which you want to win), and behind the other two doors are **goats** (which you don't want).  \n",
    "Let's say you choose one door, for example, Door #1.\n",
    "\n",
    "2. **`The Twist`**: Before the door you chose is opened, Monty, who knows what's behind the doors, opens another door, say Door #3, which has a goat. Now, there are two doors left unopened: the one you initially chose (Door #1) and another unopened door (Door #2).\n",
    "\n",
    "3. **`The Decision`**: Monty then gives you a choice: Do you stick with your original door (Door #1) or switch to the other unopened door (Door #2)?"
   ]
  },
  {
   "attachments": {},
   "cell_type": "markdown",
   "metadata": {},
   "source": [
    "<div style='text-align: center'>\n",
    "    <img src='https://mathematicalmysteries.files.wordpress.com/2021/12/04615-0sxvwbnzvvnhuklug.png' alt='final_project' title='Monty' width='600' height='400'/>\n",
    "</div>"
   ]
  },
  {
   "attachments": {},
   "cell_type": "markdown",
   "metadata": {},
   "source": [
    "<font color='#FF69B4'>**Question:**</font> What's your best strategy? Should you switch doors or stick with your original choice to maximize your chances of winning the car?"
   ]
  },
  {
   "attachments": {},
   "cell_type": "markdown",
   "metadata": {},
   "source": [
    "## <font color='#FFA500'>**Project Description:**</font> \n",
    "\n",
    "In this project, you will write a Python program to simulate and analyze the Monty Hall problem. \n",
    " \n",
    "Your program will not only simulate the game multiple times to determine the winning probabilities of sticking or switching choices and comparisons of different strategies. "
   ]
  },
  {
   "cell_type": "code",
   "execution_count": 11,
   "metadata": {},
   "outputs": [],
   "source": [
    "import random\n",
    "# in case you need to install random first: pip install random\n",
    "# Function play_monty_hall() game\n",
    "\n",
    "def play_monty_hall(): \n",
    "    print(\"Welcome to Monty Hall Game, Good Luck!!!\")\n",
    "    doors = ['Goat', 'Goat', 'Car']\n",
    "    random.shuffle(doors)\n",
    "\n",
    "    player_choice = int(input(\"Choose a door number 1 , 2, 3:\")) - 1 \n",
    "\n",
    "# Monty opens a door\n",
    "    \n",
    "    remaining_doors = [0 , 1, 2]\n",
    "    remaining_doors.remove(player_choice)\n",
    "    for door in remaining_doors: \n",
    "        if doors[door] == 'Car':\n",
    "            remaining_doors.remove(door)\n",
    "            break\n",
    "    monty_door_open = random.choice(remaining_doors)\n",
    "    print(f'Monty open door {monty_door_open +1}')\n",
    "\n",
    "# Player option to stay with choice or switch\n",
    "    switch_choice = int(input(\"Do you want to switch to another door? 1 for Yes, 0 for No\"))\n",
    "\n",
    "    \n",
    "    if switch_choice:\n",
    "        remaining_doors = [0, 1, 2]\n",
    "        remaining_doors.remove(player_choice)\n",
    "        remaining_doors.remove(monty_door_open)\n",
    "        final_choice = remaining_doors[0]\n",
    "    else:\n",
    "     player_choice = final_choice\n",
    "\n",
    "    if doors[final_choice] == 'Car':\n",
    "     print('Congratulations!!! You win a car')\n",
    "    else:\n",
    "        print('Sorry you won a goat!') "
   ]
  },
  {
   "cell_type": "code",
   "execution_count": 12,
   "metadata": {},
   "outputs": [
    {
     "name": "stdout",
     "output_type": "stream",
     "text": [
      "Welcome to Monty Hall Game, Good Luck!!!\n",
      "Monty open door 1\n",
      "Congratulations!!! You win a car\n"
     ]
    }
   ],
   "source": [
    "play_monty_hall()"
   ]
  },
  {
   "cell_type": "code",
   "execution_count": 13,
   "metadata": {},
   "outputs": [
    {
     "name": "stdout",
     "output_type": "stream",
     "text": [
      "Welcome to Monty Hall Game, Good Luck!!!\n",
      "Monty open door 2\n",
      "Sorry you won a goat!\n"
     ]
    }
   ],
   "source": [
    "play_monty_hall()"
   ]
  },
  {
   "attachments": {},
   "cell_type": "markdown",
   "metadata": {},
   "source": [
    "# <font color='#E8F6EF'>**Problem 2: The Hangman Game**</font> "
   ]
  },
  {
   "attachments": {},
   "cell_type": "markdown",
   "metadata": {},
   "source": [
    "The Hangman game is a simple yet entertaining text-based game developed in Python. The objective is for the player to guess a randomly selected word by inputting one letter at a time. The game provides immediate feedback on whether a guessed letter is part of the word, and the player must try to deduce the word before running out of allowed attempts."
   ]
  },
  {
   "attachments": {},
   "cell_type": "markdown",
   "metadata": {},
   "source": [
    "<div style='text-align: center'>\n",
    "    <img src='https://play-lh.googleusercontent.com/3vU01hZIomX95xALi7bH1l2OEHFLZYvYsEx0OIjUS1FIPNrIua56phuSd8Fy4Yg9mMM' alt='final_project' title='hangman' width='500' height='400'/>\n",
    "</div>"
   ]
  },
  {
   "attachments": {},
   "cell_type": "markdown",
   "metadata": {},
   "source": [
    "## <font color='#FFA500'>**Project Description:**</font> \n",
    "\n",
    "The script should select a word from a predefined list and represents it as a series of underscores, one for each letter in the word. Players are given a fixed number of attempts to guess the letters (6 attempts).  \n",
    "With each incorrect guess, the number of remaining attempts decreases. If a player successfully uncovers the word within the allowed attempts, they win; if they fail to do so, the game ends, revealing the correct word.  \n",
    "This project is an excellent exercise in utilizing loops, conditionals, and data structures like lists, sets and string manupilation. "
   ]
  },
  {
   "cell_type": "code",
   "execution_count": 10,
   "metadata": {},
   "outputs": [],
   "source": [
    "import random\n",
    "\n",
    "def hangman_game():\n",
    "# List of words to choose from\n",
    "    word_list = ['python', 'data', 'science', 'javascript']\n",
    "# Number of lives\n",
    "    lives = 6\n",
    "    generated_word = random.choice(word_list)\n",
    "    length_word = len(generated_word)\n",
    "    display = ['_'] * length_word\n",
    "    guess_letters = set()\n",
    "    guess_words = False\n",
    "\n",
    "    print('Hello, Welcome to the Hangman Game.')\n",
    "    print(''.join(display))\n",
    "    print(f\"You have {lives} remaining\")\n",
    "\n",
    "    while not guess_words and lives > 0: \n",
    "        guess = input(\"Please guess a letter\").lower()\n",
    "        \n",
    "        if len(guess) == 1 and guess.isalpha(): \n",
    "            if guess in guess_letters:\n",
    "                print(\"You have already guess the letter '{guess}', choose again\")\n",
    "            elif guess not in generated_word: \n",
    "                print(\"The guess letter '{guess}' is not in the word, please trey again.\")\n",
    "                lives -=1 \n",
    "                guess_letters.add(guess)\n",
    "            else:\n",
    "                print(\"Your guess: '{guess}' is the the word\") \n",
    "                for index in range(length_word):\n",
    "                    if generated_word[index]== guess:\n",
    "                        display[index] = guess\n",
    "            print(\" \".join(display))\n",
    "            print(f\"You have {lives} remaining\")\n",
    "\n",
    "            if '_' not in display: \n",
    "                guess_words = True\n",
    "        else: \n",
    "            print(\"Invalid Input, please enter a alphabetical letter\")\n",
    "    \n",
    "    if guess_words: \n",
    "        print(f\"Congratulations, you have guessed the word : {generated_word}\")\n",
    "    else :\n",
    "        print(f\"You have have {lives} left. Game Over, try again!\") \n"
   ]
  },
  {
   "cell_type": "code",
   "execution_count": 5,
   "metadata": {},
   "outputs": [
    {
     "name": "stdout",
     "output_type": "stream",
     "text": [
      "Hello, Welcome to the Hangman Game.\n",
      "_______\n",
      "You have 6 remaining\n",
      "The guess letter {guess} is not in the word, please trey again.\n",
      "_ _ _ _ _ _ _\n",
      "You have 5 remaining\n",
      "The guess letter {guess} is not in the word, please trey again.\n",
      "_ _ _ _ _ _ _\n",
      "You have 4 remaining\n",
      "The guess letter {guess} is not in the word, please trey again.\n",
      "_ _ _ _ _ _ _\n",
      "You have 3 remaining\n",
      "Your guess: {guess} is the the word\n",
      "s _ _ _ _ _ _\n",
      "You have 3 remaining\n",
      "The guess letter {guess} is not in the word, please trey again.\n",
      "s _ _ _ _ _ _\n",
      "You have 2 remaining\n",
      "Your guess: {guess} is the the word\n",
      "s c _ _ _ c _\n",
      "You have 2 remaining\n",
      "Your guess: {guess} is the the word\n",
      "s c _ _ _ c _\n",
      "You have 2 remaining\n",
      "Your guess: {guess} is the the word\n",
      "s c i _ _ c _\n",
      "You have 2 remaining\n",
      "Your guess: {guess} is the the word\n",
      "s c i e _ c e\n",
      "You have 2 remaining\n",
      "Your guess: {guess} is the the word\n",
      "s c i e _ c e\n",
      "You have 2 remaining\n",
      "Your guess: {guess} is the the word\n",
      "s c i e n c e\n",
      "You have 2 remaining\n",
      "Congratulations, you have guessed the True\n"
     ]
    }
   ],
   "source": [
    "hangman_game()"
   ]
  },
  {
   "cell_type": "code",
   "execution_count": 9,
   "metadata": {},
   "outputs": [
    {
     "name": "stdout",
     "output_type": "stream",
     "text": [
      "Hello, Welcome to the Hangman Game.\n",
      "_______\n",
      "You have 6 remaining\n",
      "The guess letter '{guess}' is not in the word, please trey again.\n",
      "_ _ _ _ _ _ _\n",
      "You have 5 remaining\n",
      "The guess letter '{guess}' is not in the word, please trey again.\n",
      "_ _ _ _ _ _ _\n",
      "You have 4 remaining\n",
      "The guess letter '{guess}' is not in the word, please trey again.\n",
      "_ _ _ _ _ _ _\n",
      "You have 3 remaining\n",
      "Your guess: '{guess}' is the the word\n",
      "s _ _ _ _ _ _\n",
      "You have 3 remaining\n",
      "Your guess: '{guess}' is the the word\n",
      "s c _ _ _ c _\n",
      "You have 3 remaining\n",
      "Your guess: '{guess}' is the the word\n",
      "s c i _ _ c _\n",
      "You have 3 remaining\n",
      "Your guess: '{guess}' is the the word\n",
      "s c i e _ c e\n",
      "You have 3 remaining\n",
      "Your guess: '{guess}' is the the word\n",
      "s c i e n c e\n",
      "You have 3 remaining\n",
      "Congratulations, you have guessed the True\n"
     ]
    }
   ],
   "source": [
    "hangman_game()"
   ]
  },
  {
   "cell_type": "code",
   "execution_count": 11,
   "metadata": {},
   "outputs": [
    {
     "name": "stdout",
     "output_type": "stream",
     "text": [
      "Hello, Welcome to the Hangman Game.\n",
      "____\n",
      "You have 6 remaining\n",
      "Your guess: '{guess}' is the the word\n",
      "d _ _ _\n",
      "You have 6 remaining\n",
      "Your guess: '{guess}' is the the word\n",
      "d _ _ _\n",
      "You have 6 remaining\n",
      "Your guess: '{guess}' is the the word\n",
      "d a _ a\n",
      "You have 6 remaining\n",
      "Your guess: '{guess}' is the the word\n",
      "d a _ a\n",
      "You have 6 remaining\n",
      "Your guess: '{guess}' is the the word\n",
      "d a t a\n",
      "You have 6 remaining\n",
      "Congratulations, you have guessed the data\n"
     ]
    }
   ],
   "source": [
    "hangman_game()"
   ]
  }
 ],
 "metadata": {
  "kernelspec": {
   "display_name": "base",
   "language": "python",
   "name": "python3"
  },
  "language_info": {
   "codemirror_mode": {
    "name": "ipython",
    "version": 3
   },
   "file_extension": ".py",
   "mimetype": "text/x-python",
   "name": "python",
   "nbconvert_exporter": "python",
   "pygments_lexer": "ipython3",
   "version": "3.11.5"
  },
  "orig_nbformat": 4
 },
 "nbformat": 4,
 "nbformat_minor": 2
}
